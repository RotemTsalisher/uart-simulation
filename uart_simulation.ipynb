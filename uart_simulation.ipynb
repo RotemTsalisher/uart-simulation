{
  "nbformat": 4,
  "nbformat_minor": 0,
  "metadata": {
    "colab": {
      "provenance": []
    },
    "kernelspec": {
      "name": "python3",
      "display_name": "Python 3"
    },
    "language_info": {
      "name": "python"
    }
  },
  "cells": [
    {
      "cell_type": "code",
      "execution_count": 1,
      "metadata": {
        "id": "qYO8wkeKqQe3"
      },
      "outputs": [],
      "source": [
        "import numpy as np\n",
        "from matplotlib import pyplot as plt"
      ]
    },
    {
      "cell_type": "code",
      "source": [
        "dec_to_hex = {\n",
        "    0:'0',\n",
        "    1:'1',\n",
        "    2:'2',\n",
        "    3:'3',\n",
        "    4:'4',\n",
        "    5:'5',\n",
        "    6:'6',\n",
        "    7:'7',\n",
        "    8:'8',\n",
        "    9:'9',\n",
        "    10:'A',\n",
        "    11:'B',\n",
        "    12:'C',\n",
        "    13:'D',\n",
        "    14:'E',\n",
        "    15:'F'\n",
        "}"
      ],
      "metadata": {
        "id": "hCTgaGocx9K9"
      },
      "execution_count": 2,
      "outputs": []
    },
    {
      "cell_type": "code",
      "source": [
        "def find_first_negedge(bin_vec,ind):\n",
        "  length_ = len(bin_vec)\n",
        "  for i in range(ind,length_):\n",
        "    if(bin_vec[i] == 0):\n",
        "      return i\n",
        "\n",
        "  return [];"
      ],
      "metadata": {
        "id": "tKcYDlrfqVzA"
      },
      "execution_count": 3,
      "outputs": []
    },
    {
      "cell_type": "code",
      "source": [
        "def info_extract(bin_vec50):\n",
        "  info_bits = []\n",
        "  for i in range(0,50,5):\n",
        "    info_bits.append(bin_vec50[i])\n",
        "\n",
        "  return info_bits"
      ],
      "metadata": {
        "id": "vx_CjgmXtK6p"
      },
      "execution_count": 4,
      "outputs": []
    },
    {
      "cell_type": "code",
      "source": [
        "def amuned_info_extract(bin_vec50):\n",
        "  info_bits = []\n",
        "  for i in range(0,50,5):\n",
        "    appearances_counter = [0,0]\n",
        "    for j in range(0,5):\n",
        "      appearances_counter[bin_vec50[i + j]] += 1\n",
        "\n",
        "      if(appearances_counter[0] > appearances_counter[1]):\n",
        "        info_bits.append(appearances_counter[0])\n",
        "      else:\n",
        "        info_bits.append(appearances_counter[1])\n",
        "\n",
        "  return info_bits"
      ],
      "metadata": {
        "id": "sPwfIU6TvroV"
      },
      "execution_count": 5,
      "outputs": []
    },
    {
      "cell_type": "code",
      "source": [
        "def bin_to_hex(bin_info):\n",
        "  hex_info = ''\n",
        "  length_ = len(bin_info)\n",
        "  for i in range(0,length_,4):\n",
        "    dec_num = 0\n",
        "    for j in range(0,4):\n",
        "      dec_num += bin_info[i+j]*(2**(3-j))\n",
        "\n",
        "    hex_info += dec_to_hex[dec_num]\n",
        "\n",
        "  return hex_info\n"
      ],
      "metadata": {
        "id": "ybwenbEixofT"
      },
      "execution_count": 6,
      "outputs": []
    },
    {
      "cell_type": "code",
      "source": [
        "def UART_Rx(samples):\n",
        "  hex_info = ''\n",
        "\n",
        "  length_ = len(samples)\n",
        "  start_ = 0\n",
        "\n",
        "  for i in range(0,length_,50):\n",
        "    start_ = find_first_negedge(samples,start_+i)\n",
        "    if(start_ != []):\n",
        "      info_bits = info_extract(samples[start_:start_+50])\n",
        "      hex_info += bin_to_hex(info_bits[1:9])\n",
        "\n",
        "  return hex_info"
      ],
      "metadata": {
        "id": "0VtE4qwYsLt5"
      },
      "execution_count": 7,
      "outputs": []
    },
    {
      "cell_type": "code",
      "source": [
        "samples = [1, 1, 1, 1, 1, 1, 1, 1, 1, 1, 1, 1, 1, 1, 1, 1, 1, 0, 0, 0, 0, 0, 1, 1, 1, 1, 1,\n",
        "           1, 1, 1, 1, 1, 0, 0, 0, 0, 0, 1, 1, 1, 1, 1, 1, 1, 1, 1, 1, 1, 1, 1, 1, 1, 1, 1,\n",
        "           1, 0, 0, 0, 0, 0, 1, 1, 1, 1, 1, 1, 1, 1, 1, 1, 1, 1, 0, 0, 0, 0, 0, 1, 1, 1, 1,\n",
        "           1, 0, 0, 0, 0, 0, 1, 1, 1, 1, 1, 0, 0, 0, 0, 0, 1, 1, 1, 1, 1, 1, 1, 1, 1, 0, 0,\n",
        "           0, 0, 0, 1, 1, 1, 1, 1, 1, 1, 1, 1, 1, 1, 1]"
      ],
      "metadata": {
        "id": "fuPUebWj3YFv"
      },
      "execution_count": 8,
      "outputs": []
    },
    {
      "cell_type": "code",
      "source": [
        "print(\"hex message = 0x\" + UART_Rx(samples))"
      ],
      "metadata": {
        "colab": {
          "base_uri": "https://localhost:8080/"
        },
        "id": "21TOtlwh6LK8",
        "outputId": "12f2b620-c651-4bab-ad3f-60fa1bab4df1"
      },
      "execution_count": 9,
      "outputs": [
        {
          "output_type": "stream",
          "name": "stdout",
          "text": [
            "hex message = 0xDEAD\n"
          ]
        }
      ]
    }
  ]
}